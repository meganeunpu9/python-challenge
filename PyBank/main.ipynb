{
 "cells": [
  {
   "cell_type": "code",
   "execution_count": 85,
   "id": "685001ac-dccf-4715-901b-f89cf28aff94",
   "metadata": {},
   "outputs": [],
   "source": [
    "import csv\n"
   ]
  },
  {
   "cell_type": "code",
   "execution_count": 86,
   "id": "cb280fdd-6d03-4154-9d61-f67a4d2ba9ba",
   "metadata": {},
   "outputs": [
    {
     "name": "stdout",
     "output_type": "stream",
     "text": [
      "Financial Analysis\n",
      "------------------\n",
      "Total Months: 86\n",
      "Total: $38382578\n",
      "Average Change: $-2315.12\n",
      "Greatest Increase in Profits: Feb-2012 ($1926159)\n",
      "Greatest Decrease in Profits: Sep-2013 ($-2196167)\n"
     ]
    }
   ],
   "source": [
    "# Define function to analyze financial records\n",
    "def analyze_finances(csv_path): \n",
    "    total_months = 0\n",
    "    net_total = 0\n",
    "    monthly_changes = []\n",
    "    greatest_increase = 0\n",
    "    greatest_decrease = 0\n",
    "    greatest_increase_date = \"\"\n",
    "    greatest_decrease_date = \"\"\n",
    "\n",
    "    with open(csv_path, 'r') as file:\n",
    "        csv_reader = csv.reader(file, delimiter=',')\n",
    "        \n",
    "        # Skip header\n",
    "        next(csv_reader)\n",
    "\n",
    "        # Initialize variables for first row\n",
    "        previous_profit_loss = 0\n",
    "\n",
    "        for row in csv_reader:\n",
    "            date = row[0]\n",
    "            profit_loss = int(row[1])\n",
    "\n",
    "            # Calculate total months and net total\n",
    "            total_months += 1\n",
    "            net_total += profit_loss\n",
    "\n",
    "            # Calculate change in profit/loss\n",
    "            if previous_profit_loss != 0:\n",
    "                change = profit_loss - previous_profit_loss\n",
    "                monthly_changes.append(change)\n",
    "                if change > greatest_increase:\n",
    "                    greatest_increase = change\n",
    "                    greatest_increase_date = date\n",
    "                elif change < greatest_decrease:\n",
    "                    greatest_decrease = change\n",
    "                    greatest_decrease_date = date\n",
    "\n",
    "            # Update previous profit/loss\n",
    "            previous_profit_loss = profit_loss\n",
    "\n",
    "    # Calculate average change\n",
    "    average_change = sum(monthly_changes) / len(monthly_changes)\n",
    "\n",
    "    # Print analysis\n",
    "    print(\"Financial Analysis\")\n",
    "    print(\"------------------\")\n",
    "    print(f\"Total Months: {total_months}\")\n",
    "    print(f\"Total: ${net_total}\")\n",
    "    print(f\"Average Change: ${average_change:.2f}\")\n",
    "    print(f\"Greatest Increase in Profits: {greatest_increase_date} (${greatest_increase})\")\n",
    "    print(f\"Greatest Decrease in Profits: {greatest_decrease_date} (${greatest_decrease})\")\n",
    "\n",
    "    # Write analysis to text file\n",
    "    with open(\"financial_analysis.txt\", 'w') as output_file:\n",
    "        output_file.write(\"Financial Analysis\\n\")\n",
    "        output_file.write(\"------------------\\n\")\n",
    "        output_file.write(f\"Total Months: {total_months}\\n\")\n",
    "        output_file.write(f\"Total: ${net_total}\\n\")\n",
    "        output_file.write(f\"Average Change: ${average_change:.2f}\\n\")\n",
    "        output_file.write(f\"Greatest Increase in Profits: {greatest_increase_date} (${greatest_increase})\\n\")\n",
    "        output_file.write(f\"Greatest Decrease in Profits: {greatest_decrease_date} (${greatest_decrease})\\n\")\n",
    "\n",
    "# Call the function with the path to the CSV file\n",
    "analyze_finances('budget_data.csv')"
   ]
  },
  {
   "cell_type": "code",
   "execution_count": null,
   "id": "a038e66f-d7a9-4e82-883b-b4df1b4958c3",
   "metadata": {},
   "outputs": [],
   "source": []
  },
  {
   "cell_type": "code",
   "execution_count": null,
   "id": "83564b46-7f63-43e2-b1f0-6421d42e465d",
   "metadata": {},
   "outputs": [],
   "source": []
  }
 ],
 "metadata": {
  "kernelspec": {
   "display_name": "Python 3 (ipykernel)",
   "language": "python",
   "name": "python3"
  },
  "language_info": {
   "codemirror_mode": {
    "name": "ipython",
    "version": 3
   },
   "file_extension": ".py",
   "mimetype": "text/x-python",
   "name": "python",
   "nbconvert_exporter": "python",
   "pygments_lexer": "ipython3",
   "version": "3.11.7"
  }
 },
 "nbformat": 4,
 "nbformat_minor": 5
}
